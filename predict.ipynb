{
 "cells": [
  {
   "cell_type": "code",
   "execution_count": null,
   "metadata": {},
   "outputs": [],
   "source": [
    "import tensorflow as tf\n",
    "import cv2 as cv\n",
    "import matplotlib.pyplot as plt\n",
    "import pandas as pd\n",
    "import numpy as np\n",
    "from model import U_Net"
   ]
  },
  {
   "cell_type": "code",
   "execution_count": null,
   "metadata": {},
   "outputs": [],
   "source": [
    "res = 224\n",
    "model = U_Net(n_classes=18)\n",
    "model.load_weights('last_model_weights.h5')\n",
    "#model weights file = #https://drive.google.com/file/d/1-E9leFxYl-nlJtHCYVDJhh7CAARumtdA/view?usp=sharing"
   ]
  },
  {
   "cell_type": "code",
   "execution_count": null,
   "metadata": {},
   "outputs": [],
   "source": [
    "# df = pd.read_csv(os.path.join(base_path, 'labels.csv'))\n",
    "# hues = {}\n",
    "# for v, i in enumerate(df['value']):\n",
    "#     hues[i] = (v,int(v*180/18))\n",
    "\n",
    "# def get_color(mask):\n",
    "#     for i, v in hues.values():\n",
    "#         mask[mask==i] = v\n",
    "#     k = np.ones((res, res, 2))*1\n",
    "#     mask = np.concatenate((tf.expand_dims(mask, axis=-1),k), axis=-1)\n",
    "#     print(mask.shape)\n",
    "#     # mask = np.array(cv.cvtColor(mask, cv.COLOR_HSV2RGB))\n",
    "#     return mask"
   ]
  },
  {
   "cell_type": "code",
   "execution_count": null,
   "metadata": {},
   "outputs": [],
   "source": [
    "imgg = cv.resize(cv.cvtColor(cv.imread('any_image.png'), cv.COLOR_BGR2RGB), (res,res), interpolation=cv.INTER_NEAREST)\n",
    "img = tf.expand_dims(imgg, axis=0)\n",
    "img = img/255\n",
    "Y = model(img)\n",
    "Y = np.squeeze(np.argmax(Y, axis=-1))\n",
    "# Y_rgb = get_color(Y)\n",
    "plt.imshow(imgg)\n",
    "plt.show()\n",
    "plt.imshow(Y, cmap='jet')\n",
    "plt.show()\n",
    "# plt.imshow(np.add(Y_rgb/255, imgg))\n",
    "# plt.show()\n",
    "\n"
   ]
  },
  {
   "cell_type": "code",
   "execution_count": null,
   "metadata": {},
   "outputs": [],
   "source": []
  }
 ],
 "metadata": {
  "kernelspec": {
   "display_name": "Python 3",
   "language": "python",
   "name": "python3"
  },
  "language_info": {
   "codemirror_mode": {
    "name": "ipython",
    "version": 3
   },
   "file_extension": ".py",
   "mimetype": "text/x-python",
   "name": "python",
   "nbconvert_exporter": "python",
   "pygments_lexer": "ipython3",
   "version": "3.10.8"
  },
  "orig_nbformat": 4,
  "vscode": {
   "interpreter": {
    "hash": "947f030b3e678118fc438144c1e47ca5c23949e6feee86165ca58c1240ce2eba"
   }
  }
 },
 "nbformat": 4,
 "nbformat_minor": 2
}
